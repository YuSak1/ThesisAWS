{
 "cells": [
  {
   "cell_type": "markdown",
   "metadata": {
    "colab_type": "text",
    "id": "hxQ32n5QT3Eo"
   },
   "source": [
    "# This is a replication of Lim's method"
   ]
  },
  {
   "cell_type": "code",
   "execution_count": null,
   "metadata": {
    "colab": {
     "base_uri": "https://localhost:8080/",
     "height": 263
    },
    "colab_type": "code",
    "id": "j8AUbb50-UfE",
    "outputId": "81e47010-dd2b-4bd0-e2fb-504a3aa495c9"
   },
   "outputs": [
    {
     "name": "stdout",
     "output_type": "stream",
     "text": [
      "Collecting gputil\n",
      "  Downloading https://files.pythonhosted.org/packages/ed/0e/5c61eedde9f6c87713e89d794f01e378cfd9565847d4576fa627d758c554/GPUtil-1.4.0.tar.gz\n",
      "Building wheels for collected packages: gputil\n",
      "  Building wheel for gputil (setup.py) ... \u001b[?25l\u001b[?25hdone\n",
      "  Created wheel for gputil: filename=GPUtil-1.4.0-cp36-none-any.whl size=7410 sha256=1c1f9736e153b3284da8969d499abfae7a32fbdc7557fcd13a7085813b3813a0\n",
      "  Stored in directory: /root/.cache/pip/wheels/3d/77/07/80562de4bb0786e5ea186911a2c831fdd0018bda69beab71fd\n",
      "Successfully built gputil\n",
      "Installing collected packages: gputil\n",
      "Successfully installed gputil-1.4.0\n",
      "Requirement already satisfied: psutil in /usr/local/lib/python3.6/dist-packages (5.4.8)\n",
      "Requirement already satisfied: humanize in /usr/local/lib/python3.6/dist-packages (0.5.1)\n",
      "Gen RAM Free: 14.0 GB  | Proc size: 15.9 GB\n",
      "GPU RAM Free: 13667MB | Used: 2613MB | Util  16% | Total 16280MB\n"
     ]
    }
   ],
   "source": [
    "# Check GPU spec\n",
    "!ln -sf /opt/bin/nvidia-smi /usr/bin/nvidia-smi\n",
    "!pip install gputil\n",
    "!pip install psutil\n",
    "!pip install humanize\n",
    "import psutil\n",
    "import humanize\n",
    "import os\n",
    "import GPUtil as GPU\n",
    "GPUs = GPU.getGPUs()\n",
    "gpu = GPUs[0]\n",
    "def printm():\n",
    "  process = psutil.Process(os.getpid())\n",
    "  print(\"Gen RAM Free: \" + humanize.naturalsize( psutil.virtual_memory().available ), \" | Proc size: \" + humanize.naturalsize( process.memory_info().rss))\n",
    "  print(\"GPU RAM Free: {0:.0f}MB | Used: {1:.0f}MB | Util {2:3.0f}% | Total {3:.0f}MB\".format(gpu.memoryFree, gpu.memoryUsed, gpu.memoryUtil*100, gpu.memoryTotal))\n",
    "printm()\n",
    " "
   ]
  },
  {
   "cell_type": "code",
   "execution_count": null,
   "metadata": {
    "colab": {
     "base_uri": "https://localhost:8080/",
     "height": 316
    },
    "colab_type": "code",
    "id": "FF_L9GoTj4OU",
    "outputId": "5f666660-d101-486c-ddea-1d4a52ddf503"
   },
   "outputs": [
    {
     "name": "stdout",
     "output_type": "stream",
     "text": [
      "Mon Dec  2 16:57:30 2019       \n",
      "+-----------------------------------------------------------------------------+\n",
      "| NVIDIA-SMI 440.33.01    Driver Version: 418.67       CUDA Version: 10.1     |\n",
      "|-------------------------------+----------------------+----------------------+\n",
      "| GPU  Name        Persistence-M| Bus-Id        Disp.A | Volatile Uncorr. ECC |\n",
      "| Fan  Temp  Perf  Pwr:Usage/Cap|         Memory-Usage | GPU-Util  Compute M. |\n",
      "|===============================+======================+======================|\n",
      "|   0  Tesla P100-PCIE...  Off  | 00000000:00:04.0 Off |                    0 |\n",
      "| N/A   40C    P0    25W / 250W |      0MiB / 16280MiB |      0%      Default |\n",
      "+-------------------------------+----------------------+----------------------+\n",
      "                                                                               \n",
      "+-----------------------------------------------------------------------------+\n",
      "| Processes:                                                       GPU Memory |\n",
      "|  GPU       PID   Type   Process name                             Usage      |\n",
      "|=============================================================================|\n",
      "|  No running processes found                                                 |\n",
      "+-----------------------------------------------------------------------------+\n"
     ]
    }
   ],
   "source": [
    "!nvidia-smi"
   ]
  },
  {
   "cell_type": "code",
   "execution_count": 1,
   "metadata": {
    "colab": {},
    "colab_type": "code",
    "id": "7qGHk7xnG_0p"
   },
   "outputs": [
    {
     "name": "stderr",
     "output_type": "stream",
     "text": [
      "Using TensorFlow backend.\n"
     ]
    }
   ],
   "source": [
    "import numpy as np\n",
    "import pandas as pd\n",
    "import random\n",
    "from sklearn.neighbors import KNeighborsClassifier\n",
    "import random\n",
    "import matplotlib.patheffects as PathEffects\n",
    "from keras.layers import Input, Conv2D, Lambda, Dense, Flatten,MaxPooling2D, concatenate\n",
    "from keras.layers import Activation, BatchNormalization, ZeroPadding2D, Concatenate, Dropout, UpSampling2D\n",
    "from keras.models import Model, Sequential\n",
    "from keras.regularizers import l2\n",
    "from keras import backend as K\n",
    "from keras.optimizers import SGD, Adam, Adadelta\n",
    "from keras.losses import binary_crossentropy\n",
    "from sklearn import preprocessing\n",
    "import os\n",
    "import pickle\n",
    "import matplotlib.pyplot as plt\n",
    "plt.interactive(False)\n",
    "\n",
    "from itertools import permutations\n",
    "import seaborn as sns\n",
    "from sklearn.manifold import TSNE\n",
    "from sklearn.svm import SVC\n",
    "from sklearn.metrics import confusion_matrix, accuracy_score\n",
    "from scipy.spatial import distance\n",
    "from PIL import Image, ImageOps\n",
    "import gc\n",
    "import math\n",
    "import time\n",
    "import itertools\n",
    "from operator import itemgetter\n"
   ]
  },
  {
   "cell_type": "code",
   "execution_count": 2,
   "metadata": {
    "colab": {},
    "colab_type": "code",
    "id": "8BJJZ9VTrhey"
   },
   "outputs": [],
   "source": [
    "category = \"dining\"\n",
    "img_size = 128\n",
    "img_mode = \"L\"\n",
    "img_path = \"views/\" +category + \"/\""
   ]
  },
  {
   "cell_type": "code",
   "execution_count": 3,
   "metadata": {
    "colab": {},
    "colab_type": "code",
    "id": "Y7QN81ZvHhkf"
   },
   "outputs": [],
   "source": [
    "## CNN module as specified in the paper\n",
    "def create_base_network(in_dims):\n",
    "    \"\"\"\n",
    "    Base network to be shared.\n",
    "    \"\"\"\n",
    "    model = Sequential()\n",
    " \n",
    "    model.add(Conv2D(32, (3, 3), padding=\"same\", input_shape=(in_dims[0],in_dims[1],in_dims[2])))\n",
    "    model.add(BatchNormalization())\n",
    "    model.add(Activation('elu'))\n",
    "    model.add(MaxPooling2D((2, 2), strides=3))\n",
    "    model.add(Dropout(0.1))\n",
    "    \n",
    "    model.add(Conv2D(64, (3, 3), padding=\"same\"))\n",
    "    model.add(BatchNormalization())\n",
    "    model.add(Activation('elu'))\n",
    "    model.add(MaxPooling2D((2, 2), strides=3))\n",
    "    model.add(Dropout(0.2))\n",
    "    \n",
    "    model.add(Conv2D(128, (3, 3), padding=\"same\"))\n",
    "    model.add(BatchNormalization())\n",
    "    model.add(Activation('elu'))\n",
    "    model.add(MaxPooling2D((2, 2), strides=3))\n",
    "    model.add(Dropout(0.3))\n",
    "    \n",
    "    model.add(Conv2D(256, (3, 3), padding=\"same\"))\n",
    "    model.add(BatchNormalization())\n",
    "    model.add(Activation('elu'))\n",
    "    model.add(MaxPooling2D((2, 2), strides=3))\n",
    "    model.add(Dropout(0.4))\n",
    "\n",
    "    model.add(Conv2D(512, (1, 1), padding=\"same\"))\n",
    "    model.add(BatchNormalization())\n",
    "    model.add(Activation('elu'))\n",
    "    \n",
    "    model.add(Flatten(name='embeddings'))\n",
    "    \n",
    "    print(model.summary())\n",
    "    \n",
    "    return model"
   ]
  },
  {
   "cell_type": "code",
   "execution_count": 4,
   "metadata": {
    "colab": {},
    "colab_type": "code",
    "id": "9Rt78b7oHhpI"
   },
   "outputs": [],
   "source": [
    "def compile_model(img_channel=1):\n",
    "  print(\"Compiling model...\")\n",
    "  img_size = 112\n",
    "\n",
    "  optim = Adadelta(lr=1.0, rho=0.95, epsilon=0.000001, decay=0.0) # as specified in the paper\n",
    "\n",
    "  anchor_input = Input((img_size,img_size,img_channel, ), name='anchor_input')\n",
    "  positive_input = Input((img_size,img_size,img_channel, ), name='positive_input')\n",
    "  negative_input = Input((img_size,img_size,img_channel, ), name='negative_input')\n",
    "\n",
    "  # Shared embedding layer for positive and negative items\n",
    "  Shared_DNN = create_base_network([img_size,img_size,img_channel])\n",
    "\n",
    "  encoded_anchor = Shared_DNN(anchor_input)\n",
    "  encoded_positive = Shared_DNN(positive_input)\n",
    "  encoded_negative = Shared_DNN(negative_input)\n",
    "\n",
    "  merged_vector = concatenate([encoded_anchor, encoded_positive, encoded_negative], axis=-1, name='merged_layer')\n",
    "\n",
    "  model = Model(inputs=[anchor_input,positive_input, negative_input], outputs=merged_vector)\n",
    "  model.compile(loss=triplet_loss, optimizer=optim)\n",
    "  \n",
    "  return model"
   ]
  },
  {
   "cell_type": "code",
   "execution_count": 5,
   "metadata": {
    "colab": {},
    "colab_type": "code",
    "id": "nmqRSI127gHU"
   },
   "outputs": [],
   "source": [
    "def evaluate_triplet(X_test, Y_test):\n",
    "  \n",
    "  pred = model.predict(x=X_test, verbose=1)\n",
    "  # Split into anchor, a, and b sets\n",
    "  total_lenght = pred.shape[1]\n",
    "  pred_anchor = pred[:,0:int(total_lenght*1/3)]\n",
    "  pred_a = pred[:,int(total_lenght*1/3):int(total_lenght*2/3)]\n",
    "  pred_b = pred[:,int(total_lenght*2/3):int(total_lenght*3/3)]\n",
    "  \n",
    "  \n",
    "  # Normalize vectors as specified in the paper\n",
    "  for i in range(len(pred_anchor)):\n",
    "    if np.sum(pred_anchor[i]**2) >= 1:\n",
    "      pred_anchor[i] = preprocessing.normalize([pred_anchor[i]], norm='l2')[0]\n",
    "    if np.sum(pred_a[i]**2) >= 1:\n",
    "      pred_a[i] = preprocessing.normalize([pred_a[i]], norm='l2')[0]\n",
    "    if np.sum(pred_b[i]**2) >= 1:\n",
    "      pred_b[i] = preprocessing.normalize([pred_b[i]], norm='l2')[0]\n",
    "\n",
    "  \n",
    "  result = []\n",
    "  for i in range(pred.shape[0]):\n",
    "    dist1 = distance.euclidean(pred_anchor[i], pred_a[i])\n",
    "    dist2 = distance.euclidean(pred_anchor[i], pred_b[i])\n",
    "\n",
    "    if dist1 < dist2:\n",
    "      result.append(0)\n",
    "    else:\n",
    "      result.append(1)   \n",
    "  \n",
    "  accuracy = accuracy_score(Y_test, result)\n",
    "  print(\"Evaluation accuracy: \", accuracy)\n",
    "\n",
    "  return accuracy\n"
   ]
  },
  {
   "cell_type": "code",
   "execution_count": 6,
   "metadata": {
    "colab": {},
    "colab_type": "code",
    "id": "-sCxnEs8Mrt4"
   },
   "outputs": [],
   "source": [
    "## Create two plots; accuracy and loss\n",
    "def save_plot(eval_name, fold_id, view_id):\n",
    "  fig = plt.figure()\n",
    "\n",
    "  # top\n",
    "  ax1 = fig.add_subplot(2, 1, 1)\n",
    "  ax1.plot(df_history['train_loss'], color='blue')\n",
    "  ax1.plot(df_history['val_loss'], color='darkorange')\n",
    "  ax1.set_xlabel(\"epoch\")\n",
    "  ax1.set_ylabel(\"loss\")\n",
    "  plt.legend(['train_loss', 'val_loss'], loc='upper right', fontsize='x-small')\n",
    "  plt.title(\"Fold-\"+str(fold_id))\n",
    "\n",
    "  # bottom\n",
    "  ax2 = fig.add_subplot(2, 1, 2)\n",
    "  ax2.plot(df_history['val_acc'], color='orange')\n",
    "  ax2.plot(df_history['vote_acc'], color='darkgreen')\n",
    "  ax2.set_xlabel(\"epoch\")\n",
    "  ax2.set_ylabel(\"accuracy\")\n",
    "  plt.legend(['val_accuracy', 'vote_accuracy'], loc='upper left', fontsize='x-small')\n",
    "\n",
    "  ax1.grid()\n",
    "  ax2.grid()\n",
    "\n",
    "  fig.show()\n",
    "  fig.savefig(\"CV_eval_img/\" + eval_name + \"/Fold-\"+str(fold_id))\n",
    "  plt.close()"
   ]
  },
  {
   "cell_type": "code",
   "execution_count": 7,
   "metadata": {
    "colab": {},
    "colab_type": "code",
    "id": "AOji9Qq2HhfR"
   },
   "outputs": [],
   "source": [
    "def triplet_loss(y_true, y_pred, alpha = 0.2):\n",
    "    \"\"\"\n",
    "    Implementation of the triplet loss function\n",
    "    Arguments:\n",
    "    y_true -- true labels, required when you define a loss in Keras, you don't need it in this function.\n",
    "    y_pred -- python list containing three objects:\n",
    "            anchor -- the encodings for the anchor data\n",
    "            positive -- the encodings for the positive data (similar to anchor)\n",
    "            negative -- the encodings for the negative data (different from anchor)\n",
    "    Returns:\n",
    "    loss -- real number, value of the loss\n",
    "    \"\"\"\n",
    "\n",
    "    total_lenght = 512*3\n",
    "    \n",
    "    anchor = y_pred[:,0:int(total_lenght*1/3)]\n",
    "    positive = y_pred[:,int(total_lenght*1/3):int(total_lenght*2/3)]\n",
    "    negative = y_pred[:,int(total_lenght*2/3):int(total_lenght*3/3)]\n",
    "     \n",
    "    # Normalize vectors as specified in the paper\n",
    "    anchor = K.switch(K.greater_equal(K.sum(K.square(anchor)), 1), lambda: K.l2_normalize(anchor, axis=0), lambda: anchor)\n",
    "    positive = K.switch(K.greater_equal(K.sum(K.square(positive)), 1), lambda: K.l2_normalize(positive, axis=0), lambda: positive)\n",
    "    negative = K.switch(K.greater_equal(K.sum(K.square(negative)), 1), lambda: K.l2_normalize(negative, axis=0), lambda: negative)\n",
    "\n",
    "    # distance between the anchor and the positive\n",
    "    pos_dist = K.sqrt(K.sum(K.square(anchor-positive),axis=1))\n",
    "\n",
    "    # distance between the anchor and the negative\n",
    "    neg_dist = K.sqrt(K.sum(K.square(anchor-negative),axis=1))\n",
    "\n",
    "    # compute loss\n",
    "    basic_loss = pos_dist-neg_dist+alpha\n",
    "    loss = K.maximum(basic_loss,0.0)\n",
    "\n",
    "    return loss"
   ]
  },
  {
   "cell_type": "code",
   "execution_count": 8,
   "metadata": {
    "colab": {},
    "colab_type": "code",
    "id": "x2Vv9DnMEOAe"
   },
   "outputs": [],
   "source": [
    "def evaluate_triplet_vote(X_test, Y_test, num_views):\n",
    "  \n",
    "  pred = model.predict(x=X_test, verbose=1)\n",
    "  \n",
    "  # Split into anchor, a, and b sets\n",
    "  total_lenght = pred.shape[1]\n",
    "  pred_anchor = pred[:,0:int(total_lenght*1/3)]\n",
    "  pred_a = pred[:,int(total_lenght*1/3):int(total_lenght*2/3)]\n",
    "  pred_b = pred[:,int(total_lenght*2/3):int(total_lenght*3/3)]\n",
    "  \n",
    "  # Normalize vectors as specified in the paper\n",
    "  for i in range(len(pred_anchor)):\n",
    "    if np.sum(pred_anchor[i]**2) >= 1:\n",
    "      pred_anchor[i] = preprocessing.normalize([pred_anchor[i]], norm='l2')[0]\n",
    "    if np.sum(pred_a[i]**2) >= 1:\n",
    "      pred_a[i] = preprocessing.normalize([pred_a[i]], norm='l2')[0]\n",
    "    if np.sum(pred_b[i]**2) >= 1:\n",
    "      pred_b[i] = preprocessing.normalize([pred_b[i]], norm='l2')[0]\n",
    "  \n",
    "  \n",
    "  result_tmp = []\n",
    "  result = []\n",
    "  for i in range(pred.shape[0]):\n",
    "    dist1 = distance.euclidean(pred_anchor[i], pred_a[i])\n",
    "    dist2 = distance.euclidean(pred_anchor[i], pred_b[i])\n",
    "\n",
    "    if dist1 < dist2:\n",
    "      result_tmp.append(0)\n",
    "    else:\n",
    "      result_tmp.append(1)\n",
    "      \n",
    "    if len(result_tmp)==num_views:\n",
    "      if (sum(result_tmp) < math.ceil(num_views/2)):\n",
    "        result.append(0)\n",
    "      else:\n",
    "        result.append(1)\n",
    "      \n",
    "      result_tmp=[]\n",
    "\n",
    "  print(\"Voting evaluation accuracy: \", accuracy_score(Y_test[0:int(len(Y_test)/num_views)], result))\n",
    "\n",
    "  return accuracy_score(Y_test[0:int(len(Y_test)/num_views)], result)\n"
   ]
  },
  {
   "cell_type": "code",
   "execution_count": 9,
   "metadata": {},
   "outputs": [],
   "source": [
    "def train_img_generator(i, df_train, view_out, out):\n",
    "    name_list = [\"query\", \"pos\", \"neg\"]\n",
    "    \n",
    "    for k in range(0,3):\n",
    "        data_id = df_train.loc[:,name_list[k]][i]\n",
    "        img_file = data_id + \"/\" + data_id + \"_\" + str(view_out[k]) + \".png\"\n",
    "        img = img_path + img_file\n",
    "        img = Image.open(img)\n",
    "        img = ImageOps.expand(img, border=30, fill=0)  # padding with 0s\n",
    "        img = img.convert(img_mode)\n",
    "        img = img.resize((img_size, img_size))\n",
    "        data = np.asarray(img)/255\n",
    "\n",
    "        # Randomly crop 112x112 images\n",
    "        rand1 = random.randrange(17)\n",
    "        rand2 = random.randrange(17)\n",
    "        data_crop = np.asarray(data[rand1:rand1+112, rand2:rand2+112])\n",
    "\n",
    "        # Flip image by 50% probability\n",
    "        rand_flip = random.randrange(2)\n",
    "        if rand_flip==0:\n",
    "            out[k].append(data_crop)\n",
    "        else:\n",
    "            out[k].append(np.fliplr(data_crop)) ## Flipped image\n",
    "    \n",
    "    return out\n",
    "\n",
    "        "
   ]
  },
  {
   "cell_type": "code",
   "execution_count": 10,
   "metadata": {
    "colab": {},
    "colab_type": "code",
    "id": "Wxp6A0QgU8P0"
   },
   "outputs": [],
   "source": [
    "def data_generator(fold_id,view_ids=[1,2,3], num_triplets=5):  \n",
    "  ## Get 10-fold data\n",
    "  df_train = pd.read_pickle(\"10CV_df/\" + category + \"/df_train_\" + str(fold_id) + \".csv\").reset_index(drop=True)\n",
    "  df_test = pd.read_pickle(\"10CV_df/\" + category + \"/df_test_\" + str(fold_id) + \".csv\").reset_index(drop=True)\n",
    "\n",
    "  df_train = df_train.reset_index(drop=\"True\")\n",
    "  df_test = df_test.reset_index(drop=\"True\")\n",
    "\n",
    "  print(\"Training original size: \", df_train.shape)\n",
    "  print(\"Test original size: \", df_test.shape)\n",
    "  \n",
    "  ### All combinations of views ###\n",
    "  view_comb = []\n",
    "  for i in itertools.product(view_ids, repeat=3):\n",
    "    view_comb.append(i)\n",
    "  \n",
    "  ################ Generate Training Data ################\n",
    "  out_list = [] # final output\n",
    "  data_length = len(df_train)\n",
    "  \n",
    "  print(\"Generating training data...\")\n",
    "\n",
    "  out = [[], [], []]\n",
    "  cur_triplets_all = []\n",
    "  \n",
    "  for i in range(data_length):\n",
    "    if i%5 == 0:\n",
    "      print(\"\\r{0}\".format(i), \"/\", data_length,  end=\"\")    \n",
    "    \n",
    "    cur_triplets_sub = []\n",
    "    rand_list = random.sample(range(0, len(view_comb)), num_triplets)\n",
    "    for j in range(num_triplets):\n",
    "      view_out = view_comb[rand_list[j]]           # randomly selected view combination\n",
    "      cur_triplets_sub.append(view_out)\n",
    "      out = train_img_generator(i, df_train, view_out, out)\n",
    "            \n",
    "    cur_triplets_all.append(cur_triplets_sub)\n",
    "    \n",
    "  out_list.append(np.array(out[0]))\n",
    "  out_list.append(np.array(out[1]))\n",
    "  out_list.append(np.array(out[2]))\n",
    "    \n",
    "\n",
    "\n",
    "  ############### Generate Test Data #########################\n",
    "  data_length = len(df_test)\n",
    "  name_list = [\"query\", \"pos\", \"neg\"]\n",
    "\n",
    "  for k in range(0,3):\n",
    "    print(\"\\nGenerating test data\", k+1, \"/3...\")\n",
    "    out_test = []\n",
    "    for i in range(data_length):\n",
    "      for j in view_ids:\n",
    "          data_id = df_test.loc[i,name_list[k]]\n",
    "          img_file = data_id + \"/\" + data_id + \"_\" + str(j) + \".png\"\n",
    "          img = img_path + img_file\n",
    "          img = Image.open(img)\n",
    "          img = ImageOps.expand(img, border=25, fill=0) # padding with 0s\n",
    "          img = img.convert(img_mode)\n",
    "          img = img.resize((img_size, img_size))\n",
    "          data = np.asarray(img)/255\n",
    "          data_crop = np.asarray(data[8:120, 8:120]) # crop a image on the centre\n",
    "          out_test.append(data_crop)\n",
    "          \n",
    "    out_list.append(np.array(out_test))\n",
    "\n",
    "  return [out_list, np.array(cur_triplets_all)]\n"
   ]
  },
  {
   "cell_type": "code",
   "execution_count": 11,
   "metadata": {},
   "outputs": [],
   "source": [
    "## Regenerate training set every 10 epoch as proposed in the paper \n",
    "\n",
    "def regenerate_set(fold_id, train_set, cur_triplets, num_triplets, view_ids=[1,2,3]):\n",
    "    margin = 0.2 # margin for gap criteria\n",
    "\n",
    "    df_train = pd.read_pickle(\"10CV_df/\" + category + \"/df_train_\" + str(fold_id) + \".csv\").reset_index(drop=\"True\")\n",
    "\n",
    "    print(\"=========== Regenerating training set ===========\")\n",
    "    #########################  Select 50% of view combinations from each triplet to retain  ##################################\n",
    "    Anchor_train_all = train_set[0]\n",
    "    Positive_train_all = train_set[1]\n",
    "    Negative_train_all = train_set[2]\n",
    "    pred = model.predict(x=[Anchor_train_all,Positive_train_all,Negative_train_all],verbose=1)\n",
    "\n",
    "    total_width = pred.shape[1]\n",
    "    data_length = len(pred)\n",
    "\n",
    "    pred_a = pred[:,int(total_width*1/3):int(total_width*2/3)]\n",
    "    pred_b = pred[:,int(total_width*2/3):int(total_width*3/3)]\n",
    "\n",
    "    dist_pos_neg = np.sqrt(np.sum(np.power(pred_a - pred_b, 2),axis=1))\n",
    "\n",
    "    df_dist = pd.DataFrame()\n",
    "    df_dist[\"dist\"] = dist_pos_neg\n",
    "    index_retain = []\n",
    "\n",
    "    for i in range(0, data_length, num_triplets):\n",
    "        df_dist_sub = df_dist.iloc[i:i+num_triplets]\n",
    "        df_dist_sub = df_dist_sub.sort_values(by=\"dist\")\n",
    "        index_retain.append(df_dist_sub.head(math.floor(num_triplets/4)).index.values.tolist())\n",
    "        index_retain.append(df_dist_sub.tail(math.floor(num_triplets/4)).index.values.tolist())\n",
    "\n",
    "    cur_triplets_flat = list(itertools.chain.from_iterable(cur_triplets))\n",
    "    cur_triplets_flat = [l.tolist() for l in cur_triplets_flat]\n",
    "\n",
    "    index_retain = list(itertools.chain.from_iterable(index_retain))\n",
    "    index_retain.sort()\n",
    "\n",
    "    print(np.array(index_retain).shape)\n",
    "    print(Anchor_train_all.shape)\n",
    "    Anchor_train_retain = Anchor_train_all[index_retain]\n",
    "    Positive_train_retain = Positive_train_all[index_retain]\n",
    "    Negative_train_retain = Negative_train_all[index_retain]\n",
    "\n",
    "    remaining_triplets = np.array(list(itertools.chain.from_iterable(np.array(cur_triplets_flat)[index_retain]))).reshape(-1, math.floor(num_triplets/4)*2, 3).tolist()\n",
    "\n",
    "    print(\"\\nRemaining 50% length:\", len(Anchor_train_retain))\n",
    "  \n",
    "  ###################################     Select new 50% of view combinations for each triplet    ############################################\n",
    "    view_comb = []\n",
    "    new_triplets = []\n",
    "    Anchor_train_new = []\n",
    "    Positive_train_new = []\n",
    "    Negative_train_new = []\n",
    "    # All combinations of views\n",
    "    for i in itertools.product(view_ids, repeat=3):\n",
    "        view_comb.append(i)\n",
    "    view_comb = np.array(view_comb)\n",
    "    view_comb_list = view_comb.tolist()\n",
    "    print(\"view_comb shape: \", view_comb.shape)\n",
    "\n",
    "    extra_key_list = list(range(0, len(view_comb_list)))\n",
    "    random.shuffle(extra_key_list)\n",
    "\n",
    "    key_list_j2 = list(range(len(view_comb_list)))\n",
    "    random.shuffle(key_list_j2)\n",
    "\n",
    "    # Compute the distance of all the view combinations that are not in the current triplet\n",
    "    name_list = [\"query\", \"pos\", \"neg\"]\n",
    "  \n",
    "    for i in range(int(data_length/num_triplets)):\n",
    "        if i%5==0:\n",
    "            print(\"\\r{0}\".format(i), \"/\", int(data_length/num_triplets), end=\"\")\n",
    "            \n",
    "        new50_index = []\n",
    "        key_j2 = []\n",
    "        \n",
    "        out_new_triplets = [[], [], []]\n",
    "        Anchor_train_all = []\n",
    "        Positive_train_all = []\n",
    "        Negative_train_all = []\n",
    "        view_out_cumu = []\n",
    "        \n",
    "        j2 = 0\n",
    "        while len(view_out_cumu) < (num_triplets/2)*10: # get some random triplets, give it 10 tries\n",
    "            if view_comb_list[key_list_j2[j2]] not in cur_triplets[i].tolist():\n",
    "                key_j2.append(key_list_j2[j2])\n",
    "                view_out_cumu.append(view_comb_list[key_list_j2[j2]])\n",
    "            j2 += 1\n",
    "\n",
    "        for s in range(len(view_out_cumu)):\n",
    "            view_out = view_out_cumu[s]\n",
    "            # this function cumulates triplets\n",
    "            out_new_triplets = train_img_generator(i, df_train, view_out, out_new_triplets)\n",
    "\n",
    "        # Generate triplets\n",
    "        Anchor_train_all = np.array(out_new_triplets[0])[:, :, :, np.newaxis]\n",
    "        Positive_train_all = np.array(out_new_triplets[1])[:, :, :, np.newaxis]\n",
    "        Negative_train_all = np.array(out_new_triplets[2])[:, :, :, np.newaxis]\n",
    "\n",
    "        # Extract features\n",
    "        pred = model.predict(x=[Anchor_train_all,Positive_train_all,Negative_train_all],verbose=0)\n",
    "\n",
    "        pred_anchor = pred[:,0:int(total_width*1/3)]\n",
    "        pred_a = pred[:,int(total_width*1/3):int(total_width*2/3)]\n",
    "        pred_b = pred[:,int(total_width*2/3):int(total_width*3/3)]\n",
    "\n",
    "        dist_pos = np.sqrt(np.sum(np.power(pred_anchor-pred_a, 2),axis=1))\n",
    "        dist_neg = np.sqrt(np.sum(np.power(pred_anchor-pred_b, 2),axis=1))\n",
    "        dist_diff = dist_neg - dist_pos\n",
    "\n",
    "        # Select the views that satisfy the condition\n",
    "        j4 = 0\n",
    "        while len(new50_index) < math.ceil(num_triplets/2) and j4 < (num_triplets/2)*10:\n",
    "            if dist_diff[j4] < margin:\n",
    "                new50_index.append(key_j2[j4])\n",
    "                Anchor_train_new.append(Anchor_train_all[j4])\n",
    "                Positive_train_new.append(Positive_train_all[j4])\n",
    "                Negative_train_new.append(Negative_train_all[j4])\n",
    "            j4 += 1\n",
    "\n",
    "        ### in case there is not enough number of triplets, add random triplets ###\n",
    "        j3 = 0\n",
    "        while len(new50_index) < math.ceil(num_triplets/2):\n",
    "#             print(\"not enough triplets!!!!\")\n",
    "            if extra_key_list[j3] not in cur_triplets[i]\\\n",
    "            and extra_key_list[j3] not in out_new_triplets:\n",
    "\n",
    "                new50_index.append(extra_key_list[j3])\n",
    "                # Generate images for the selected triplet\n",
    "                out_new_triplets = [[], [], []] # initialize\n",
    "                out_new_triplets = train_img_generator(i, df_train, view_comb_list[extra_key_list[j3]], out_new_triplets)\n",
    "                \n",
    "                # add a new dimension\n",
    "                Anchor_train_all = np.array(out_new_triplets[0])[:,:, :, np.newaxis]\n",
    "                Positive_train_all = np.array(out_new_triplets[1])[:,:, :, np.newaxis]\n",
    "                Negative_train_all = np.array(out_new_triplets[2])[:,:, :, np.newaxis]\n",
    "                \n",
    "                Anchor_train_new.append(Anchor_train_all[0])\n",
    "                Positive_train_new.append(Positive_train_all[0])\n",
    "                Negative_train_new.append(Negative_train_all[0])\n",
    "                \n",
    "            j3 += 1\n",
    "        \n",
    "        new50_index.sort()    \n",
    "        new_triplets.append([view_comb_list[s] for s in new50_index])\n",
    "        \n",
    "    remaining_triplets_flat = list(itertools.chain.from_iterable(remaining_triplets))\n",
    "    new_triplets_flat = list(itertools.chain.from_iterable(new_triplets))\n",
    "\n",
    "    Anchor_train_all_new = []\n",
    "    Positive_train_all_new = []\n",
    "    Negative_train_all_new = []\n",
    "    new_triplets_all = []\n",
    "    print(\"Anchor_train_retain.shape\", np.array(Anchor_train_retain).shape)\n",
    "    print(\"Anchor_train_new.shape\", np.array(Anchor_train_new).shape)\n",
    "  \n",
    "    for i in range(len(Anchor_train_retain)):\n",
    "        Anchor_train_all_new.append(Anchor_train_retain[i])\n",
    "        Anchor_train_all_new.append(Anchor_train_new[i])\n",
    "        Positive_train_all_new.append(Positive_train_retain[i])\n",
    "        Positive_train_all_new.append(Positive_train_new[i])\n",
    "        Negative_train_all_new.append(Negative_train_retain[i])\n",
    "        Negative_train_all_new.append(Negative_train_new[i])\n",
    "        new_triplets_all.append(remaining_triplets_flat[i])\n",
    "        new_triplets_all.append(new_triplets_flat[i])\n",
    "    \n",
    "    new_triplets_all = np.array(new_triplets_all).reshape(-1, num_triplets, 3)\n",
    "\n",
    "    print(\"Anchor_train_all_new.shape:\", np.array(Anchor_train_all_new).shape)\n",
    "    return [[np.array(Anchor_train_all_new), np.array(Positive_train_all_new), np.array(Negative_train_all_new)], new_triplets_all]"
   ]
  },
  {
   "cell_type": "markdown",
   "metadata": {
    "colab_type": "text",
    "id": "HFluQG8PDNqN"
   },
   "source": [
    "# 10-fold-cross-validation"
   ]
  },
  {
   "cell_type": "code",
   "execution_count": null,
   "metadata": {
    "colab": {
     "base_uri": "https://localhost:8080/",
     "height": 105
    },
    "colab_type": "code",
    "id": "kySp9S6VQaMU",
    "outputId": "711728cb-97d7-4dc6-f4cf-5398a1568ea5"
   },
   "outputs": [],
   "source": [
    "# %%capture\n",
    "# import warnings\n",
    "# warnings.filterwarnings(\"ignore\")\n",
    "\n",
    "# Time\n",
    "start = time.time()\n",
    "\n",
    "# parameters\n",
    "num_epoch = 150\n",
    "\n",
    "views = [0,1,2,3,4,5,6,7,8,9,10,11,12,13,14]\n",
    "\n",
    "num_triplets = 4 # number of view combinations to generate for each triplet\n",
    "\n",
    "##### 10-fold cross-validation ###########\n",
    "for k in range(1,11):\n",
    "  \n",
    "  print(\"==================== Fold:\", k, \"/10 ===================\")\n",
    "\n",
    "  generated_data, cur_triplets = data_generator(k,view_ids=views, num_triplets=num_triplets)\n",
    "  Anchor_train_all = generated_data[0]\n",
    "  Positive_train_all = generated_data[1]\n",
    "  Negative_train_all = generated_data[2]\n",
    "  # Add a dimension\n",
    "  Anchor_train_all = Anchor_train_all[:, :, :, np.newaxis]\n",
    "  Positive_train_all = Positive_train_all[:, :, :, np.newaxis]\n",
    "  Negative_train_all = Negative_train_all[:, :, :, np.newaxis]\n",
    "\n",
    "  Anchor_test_all = generated_data[3]\n",
    "  Positive_test_all = generated_data[4]\n",
    "  Negative_test_all = generated_data[5]\n",
    "  # Add a dimension\n",
    "  Anchor_test_all = Anchor_test_all[:, :, :, np.newaxis]\n",
    "  Positive_test_all = Positive_test_all[:, :, :, np.newaxis]\n",
    "  Negative_test_all = Negative_test_all[:, :, :, np.newaxis]\n",
    "\n",
    "  Y_dummy_train = np.zeros((Anchor_train_all.shape[0],1))\n",
    "  Y_dummy_test = np.zeros((Anchor_test_all.shape[0],1))\n",
    "  \n",
    "  ## Complie model\n",
    "  model = compile_model(img_channel=1)\n",
    "\n",
    "  df_history = pd.DataFrame(columns=['train_loss','val_loss','train_acc','val_acc','vote_acc'])\n",
    "  for i in range(1,num_epoch+1):\n",
    "    print(\"Epoch:\",i,\"/\",num_epoch)\n",
    "    \n",
    "    ## Evaluations ##\n",
    "    val_acc = evaluate_triplet(X_test = [Anchor_test_all,Positive_test_all, Negative_test_all], \n",
    "                                Y_test = np.zeros((Anchor_test_all.shape[0],1)))\n",
    "    train_acc = evaluate_triplet(X_test = [Anchor_train_all, Positive_train_all, Negative_train_all], \n",
    "                                Y_test = np.zeros((Anchor_train_all.shape[0],1)))\n",
    "    \n",
    "    vote_acc = evaluate_triplet_vote(X_test = [Anchor_test_all, Positive_test_all, Negative_test_all], \n",
    "                                Y_test = np.zeros((Anchor_test_all.shape[0],1)), num_views=len(views))\n",
    "    \n",
    "    history= model.fit(x=[Anchor_train_all, Positive_train_all, Negative_train_all], y=Y_dummy_train,\n",
    "                       validation_data=([Anchor_test_all,Positive_test_all,Negative_test_all],Y_dummy_test),\n",
    "                batch_size=128, epochs=1, verbose=1, shuffle=True)\n",
    "\n",
    "    df_history = df_history.append(pd.DataFrame([history.history['loss'], history.history['val_loss'], [train_acc], [val_acc], [vote_acc]],\n",
    "                                                index=['train_loss','val_loss','train_acc','val_acc', 'vote_acc']).T)\n",
    "    df_history = df_history.reset_index(drop=\"Ture\")\n",
    "\n",
    "    # elapsed time\n",
    "    elapsed_time = time.time() - start\n",
    "    print(\"Elapsed time:\", time.strftime(\"%H:%M:%S\", time.gmtime(elapsed_time)), \"\\n\")\n",
    "    \n",
    "    if i%10==0 and i>1:\n",
    "      # Create and save plots\n",
    "      save_plot(category, fold_id=k, view_id=1)\n",
    "      # Save a list of accuracy\n",
    "      df_history.to_csv(\"MultiviewAccuracy_10CV/\" + category + \"/df_log_\" + str(k) + \".csv\")\n",
    "        \n",
    "        \n",
    "    # Regenerate training set every 10 epoch\n",
    "    if i%20==0 and i>1:\n",
    "      [Anchor_train_all, Positive_train_all, Negative_train_all], cur_triplets = regenerate_set(fold_id=k,\n",
    "                                                                                                train_set=[Anchor_train_all, Positive_train_all, Negative_train_all],\n",
    "                                                                                                cur_triplets=cur_triplets,\n",
    "                                                                                                num_triplets=num_triplets,\n",
    "                                                                                                view_ids=views)\n"
   ]
  },
  {
   "cell_type": "code",
   "execution_count": null,
   "metadata": {
    "colab": {
     "base_uri": "https://localhost:8080/",
     "height": 202
    },
    "colab_type": "code",
    "id": "KvA8qh5CVmwj",
    "outputId": "d8c5c28a-0e4d-402c-9159-f410f61bfc65"
   },
   "outputs": [],
   "source": [
    "## Read saved accuracy log\n",
    "pd.read_csv(\"MultiviewAccuracy_10CV/building/df_log_1.csv\")"
   ]
  },
  {
   "cell_type": "code",
   "execution_count": 13,
   "metadata": {
    "colab": {
     "base_uri": "https://localhost:8080/",
     "height": 770
    },
    "colab_type": "code",
    "id": "U0DVbPHgVNNo",
    "outputId": "7b710ba0-009b-47f2-e1fd-1e1aedc8dac2"
   },
   "outputs": [
    {
     "data": {
      "image/png": "[encoded data removed]",
      "text/plain": [
       "<Figure size 432x288 with 1 Axes>"
      ]
     },
     "metadata": {},
     "output_type": "display_data"
    },
    {
     "data": {
      "image/png": "[encoded data removed]",
      "text/plain": [
       "<Figure size 432x288 with 1 Axes>"
      ]
     },
     "metadata": {},
     "output_type": "display_data"
    },
    {
     "data": {
      "image/png": "[encoded data removed]",
      "text/plain": [
       "<Figure size 432x288 with 1 Axes>"
      ]
     },
     "metadata": {},
     "output_type": "display_data"
    }
   ],
   "source": [
    "id =84\n",
    "data = Anchor_train_all[id][:,:,0]\n",
    "plt.imshow(data, cmap=\"gray\")\n",
    "plt.show()\n",
    "data = Positive_train_all[id][:,:,0]\n",
    "plt.imshow(data, cmap=\"gray\")\n",
    "plt.show()\n",
    "data = Negative_train_all[id][:,:,0]\n",
    "plt.imshow(data, cmap=\"gray\")\n",
    "plt.show()"
   ]
  },
  {
   "cell_type": "code",
   "execution_count": 42,
   "metadata": {
    "colab": {
     "base_uri": "https://localhost:8080/",
     "height": 35
    },
    "colab_type": "code",
    "id": "a_bQQ7wg_X_H",
    "outputId": "93556e81-77f5-4b73-a3b9-feedbff3cae4"
   },
   "outputs": [
    {
     "name": "stdout",
     "output_type": "stream",
     "text": [
      "7200/7200 [==============================] - 7s 950us/step\n"
     ]
    }
   ],
   "source": [
    "# Evaluate on test data\n",
    "y_true = np.zeros((Anchor_test_all.shape[0],1))\n",
    "\n",
    "pred = model.predict(x=[Anchor_test_all,Positive_test_all,Negative_test_all],verbose=1)"
   ]
  },
  {
   "cell_type": "code",
   "execution_count": 28,
   "metadata": {
    "colab": {
     "base_uri": "https://localhost:8080/",
     "height": 35
    },
    "colab_type": "code",
    "id": "DftDxBrkC2KN",
    "outputId": "d1379b38-1ece-45b6-c638-fcb1241b3970"
   },
   "outputs": [
    {
     "name": "stdout",
     "output_type": "stream",
     "text": [
      "1612/1612 [==============================] - 2s 978us/step\n"
     ]
    }
   ],
   "source": [
    "# Evaluate on training data\n",
    "y_true = np.zeros((Anchor_train_all.shape[0],1))\n",
    "\n",
    "pred = model.predict(x=[Anchor_train_all,Positive_train_all,Negative_train_all],verbose=1)"
   ]
  },
  {
   "cell_type": "code",
   "execution_count": null,
   "metadata": {
    "colab": {
     "base_uri": "https://localhost:8080/",
     "height": 235
    },
    "colab_type": "code",
    "id": "aA8DSVCQBB3O",
    "outputId": "fa5b9fc7-ddf5-46e0-d796-be6e59d31ad5"
   },
   "outputs": [],
   "source": [
    "# Split into anchor, a, and b sets\n",
    "total_lenght = pred.shape[1]\n",
    "pred_anchor = pred[:,0:int(total_lenght*1/3)]\n",
    "pred_a = pred[:,int(total_lenght*1/3):int(total_lenght*2/3)]\n",
    "pred_b = pred[:,int(total_lenght*2/3):int(total_lenght*3/3)]\n",
    "pred_a.shape\n",
    "\n",
    "y_pred = []\n",
    "for i in range(pred.shape[0]):\n",
    "  dist_pos = distance.euclidean(pred_anchor[i], pred_a[i])\n",
    "  dist_neg = distance.euclidean(pred_anchor[i], pred_b[i])\n",
    "  print(\"Triplet\", i, \":\")\n",
    "  print(\"dist_pos\", dist_pos)\n",
    "  print(\"dist_neg\", dist_neg)\n",
    "  print(\"---------------------------------\")\n",
    "  if dist_pos < dist_neg:\n",
    "    y_pred.append(0)\n",
    "  else:\n",
    "    y_pred.append(1)   \n",
    "    \n",
    "\n",
    "print(accuracy_score(y_true, y_pred))\n"
   ]
  },
  {
   "cell_type": "markdown",
   "metadata": {
    "colab_type": "text",
    "id": "JNPPpNV_O3vj"
   },
   "source": [
    "# Generate empeddings for each object"
   ]
  },
  {
   "cell_type": "code",
   "execution_count": null,
   "metadata": {
    "colab": {},
    "colab_type": "code",
    "id": "Wn5CdIQqPCd2"
   },
   "outputs": [],
   "source": [
    "## This model takes one object and outputs a embedding.\n",
    "model=Model(inputs=model.get_layer(\"model_3\").get_input_at(0),outputs=model.get_layer(\"model_3\").get_output_at(0))"
   ]
  },
  {
   "cell_type": "code",
   "execution_count": null,
   "metadata": {
    "colab": {
     "base_uri": "https://localhost:8080/",
     "height": 52
    },
    "colab_type": "code",
    "id": "jNVxjBt3Tg4f",
    "outputId": "7cd09f63-016f-4911-adc1-919d26d974b7"
   },
   "outputs": [],
   "source": [
    "pred_cat1 = model.predict(x=Anchor,verbose=1)\n",
    "pred_cat2 = model.predict(x=Positive,verbose=1)"
   ]
  },
  {
   "cell_type": "code",
   "execution_count": null,
   "metadata": {
    "colab": {
     "base_uri": "https://localhost:8080/",
     "height": 1000
    },
    "colab_type": "code",
    "id": "45OfMZBwTlvP",
    "outputId": "ea334171-546a-425f-bd27-b8155999a657"
   },
   "outputs": [],
   "source": [
    "query = pred_cat1[0]\n",
    "df_dist = pd.DataFrame()\n",
    "for i in range(pred_cat2.shape[0]):\n",
    "  dist = distance.euclidean(query, pred_cat2[i])\n",
    "  df_dist = df_dist.append(pd.DataFrame([dist]))\n",
    "  print(\"Sample\", i, \":\")\n",
    "  print(\"dist\", dist)\n",
    "df_dist = df_dist.reset_index(drop=\"True\")"
   ]
  },
  {
   "cell_type": "code",
   "execution_count": null,
   "metadata": {
    "colab": {
     "base_uri": "https://localhost:8080/",
     "height": 1000
    },
    "colab_type": "code",
    "id": "CULsI8xHWm9w",
    "outputId": "daf8e8eb-6208-4154-8eee-15523714d0cc"
   },
   "outputs": [],
   "source": [
    "df_dist.sort_values(by=0, ascending=\"True\")"
   ]
  }
 ],
 "metadata": {
  "accelerator": "GPU",
  "colab": {
   "collapsed_sections": [],
   "machine_shape": "hm",
   "name": "Replication_Lim.ipynb",
   "provenance": []
  },
  "kernelspec": {
   "display_name": "Python 3 (ipykernel)",
   "language": "python",
   "name": "python3"
  },
  "language_info": {
   "codemirror_mode": {
    "name": "ipython",
    "version": 3
   },
   "file_extension": ".py",
   "mimetype": "text/x-python",
   "name": "python",
   "nbconvert_exporter": "python",
   "pygments_lexer": "ipython3",
   "version": "3.11.7"
  }
 },
 "nbformat": 4,
 "nbformat_minor": 4
}
